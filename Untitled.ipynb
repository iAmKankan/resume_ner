{
 "cells": [
  {
   "cell_type": "code",
   "execution_count": 4,
   "id": "796267cf-9b3b-436b-af88-3709deaf2a32",
   "metadata": {},
   "outputs": [],
   "source": [
    "import pandas as pd\n",
    "import nltk"
   ]
  },
  {
   "cell_type": "code",
   "execution_count": 14,
   "id": "47cfd9e2-82e6-4edf-bac0-e20eb49a7d29",
   "metadata": {},
   "outputs": [],
   "source": [
    "s=\"\"\"SYEDA RUBAINA ZARIN Guwahati,Assam 9654226228 Email: SRZarin666@gmail.com Linkedin: https://www.linkedin.com/in/syeda-zarin-8b307442/ Github Profile: https://github.com/srzarin PROFILE SUMMARY • Achievement-driven professional with an experience of nearly 5 years • Data scientist with 2.5 year of experience leveraging statistical modelling,data visualization,data preprocesing,data mining using machine learning and deep learning algorithms to solve challenging business problems and natural language processing • Have worked extensively in Data Science Technologies with proven expertise in Python, Machine Learning, Deep Learning ,Computer Vision/Image Processing and NLP. SKILL SET Programming Languages, Libraries and Framework Python, Machine Learning (NumPy, Pandas, SciPy, Matplotlib, SKlearn), Deep Neural Networks (Keras, TensorFlow, Pytorch), Convolutional Neural Networks,Beautiful Soup,Computer Vision(Open CV), NLP ( NLTK,Gensium,TextBlob,Standard NLP,Spacy),LSTM,Transformers, BERT,GPT, Flask Framework , Attention Based Models, Spark,Encoders, Decoders Visualization Tool and Libraries Power BI, Tableau, Matplotlib, Seaborn ,Plotly Tools PyCharm, Anaconda, Jupiter Notebook, GitHub, MongoDB/ MySQL Domain Retail, Ecommerce, Travel & Hospitality, FMCG, Supply Chain & Logistic and IT. Cloud Platform for Deployment AWS, Heroku, Azure, GCP, Pivotal ,Azure Machine Learning Others MS Excel, MS Power Point Presentation, MS Word RESPONSIBILITIES: DATA SCIENTIST , CATLA IT & ENGINEERING CO PRIVATE LIMITED (OCT’19 – PRESENT ) • To understand the business use cases from clients and convert them into a well-defined problem statement and explain it to the development team. mailto:SRZarin666@gmail.com https://www.linkedin.com/in/syeda-zarin-8b307442/ https://github.com/srzarin • To work with Algorithms and Predictive Models to Drive Insights and Business Values from Data. • To identify data sets required to develop predictive models for solving internal and external business problems. • Identify and implement use cases which might help the organization's business development. • To interpret results and produce actionable business insights that lead to measurable business and consumer experience performance improvements. • Experience in building applications with Artificial Intelligence, Machine Learning, Deep Learning, Recurrent Neural Network, Computer vision, NLP and Python. • Worked on Deployment and optimization of various computer vision, Machine learning and NLP solution on web based application, Azure platform using kubernetes services and Raspberry pi. • Designing the neural networks using Tensor flow for various internal projects within the company and working on Chatbots using NLP. • To operationalize,publish, and monitor successful models to shape busines and data science strategy. • To work cross-functionally to define problem statements,collect data,build analytical models and make recommendations. PROJECTS SUMMARY: Project Title Technology Roles Responsibilities ANPR ( Automatic Number Plate Detection ) Python Deep Learning Object Detection Object Tracking OCR Deep Sort Data Scientist Data Analysis & Preprocessing, Selection of Algorithms , Model Building ,Accuracy check and fine tuning, deployment in cloud. Default Wafer Detection Python Machine Learning Data Visualization Matplotlib Data Scientist Data Preprocessing ,Selection of Algorithms ,Model Building ,Accuracy check and fine tuning Flash API creation for deployment. Warehouse Dress Code Analysis Python Deep Leaning Compuer Vision Object Detection Data Scientist Data Analysis & Preprocessing ,Selection of Algorithms , Model Building ,Accuracy check and fine tuning ,Stream lit Framework creation for deployment of the model, Deployment of the model in live server . Brand Measures Python Deep Learning Data Visualization NLP Text Summerization Predictive Modelling Data Scientist ASR,Speech Seperation( Audio Segmenting), Spelling Corrector(Symspell), Keyword Spotting. PROFESSIONAL EXPERIENCE : • Catla IT & Engineering Co Private Limited , Data Scientist (OCT'19-PRESENT) • Franchise India ,Data Scientist (AUG’18 – SEP’19) • KTC India Private Limited ,Business Analyst (JUL'17-DEC'18) • BCPL(Elmatics Engineers Pvt Ltd),Instrumentation Engineer (JAN'13-MAR'15) ACADEMIC DETAILS Class/ course Year School/college Marks/ Grades PGPM/MBA (Marketing & International Business) 2015-17 FOSTIIMA Business School, New Delhi 7.42 (CGPA) B.Tech in Applied Electronics & instrumentation 2008-2012 Gandhi Institute of Engineering and Technology, Orissa 75.3 % Class XII 2008 Guwahati Public School, Assam 63%\"\"\""
   ]
  },
  {
   "cell_type": "code",
   "execution_count": 15,
   "id": "f0ea4437-79fa-422a-9b1d-dbc04b7b6d07",
   "metadata": {},
   "outputs": [],
   "source": [
    "sentence=nltk.sent_tokenize(s)"
   ]
  },
  {
   "cell_type": "code",
   "execution_count": 6,
   "id": "9fc2dd18-1e50-4303-8e4f-76e0326ce7b6",
   "metadata": {},
   "outputs": [
    {
     "data": {
      "text/plain": [
       "['SYEDA RUBAINA ZARIN Guwahati,Assam 9654226228 Email: SRZarin666@gmail.com Linkedin: https://www.linkedin.com/in/syeda-zarin-8b307442/ Github Profile: https://github.com/srzarin PROFILE SUMMARY • Achievement-driven professional with an experience of nearly 5 years • Data scientist with 2.5 year of experience leveraging statistical modelling,data visualization,data preprocesing,data mining using machine learning and deep learning algorithms to solve challenging business problems and natural language processing • Have worked extensively in Data Science Technologies with proven expertise in Python, Machine Learning, Deep Learning ,Computer Vision/Image Processing and NLP.',\n",
       " 'SKILL SET Programming Languages, Libraries and Framework Python, Machine Learning (NumPy, Pandas, SciPy, Matplotlib, SKlearn), Deep Neural Networks (Keras, TensorFlow, Pytorch), Convolutional Neural Networks,Beautiful Soup,Computer Vision(Open CV), NLP ( NLTK,Gensium,TextBlob,Standard NLP,Spacy),LSTM,Transformers, BERT,GPT, Flask Framework , Attention Based Models, Spark,Encoders, Decoders Visualization Tool and Libraries Power BI, Tableau, Matplotlib, Seaborn ,Plotly Tools PyCharm, Anaconda, Jupiter Notebook, GitHub, MongoDB/ MySQL Domain Retail, Ecommerce, Travel & Hospitality, FMCG, Supply Chain & Logistic and IT.',\n",
       " 'Cloud Platform for Deployment AWS, Heroku, Azure, GCP, Pivotal ,Azure Machine Learning Others MS Excel, MS Power Point Presentation, MS Word RESPONSIBILITIES: DATA SCIENTIST , CATLA IT & ENGINEERING CO PRIVATE LIMITED (OCT’19 – PRESENT ) • To understand the business use cases from clients and convert them into a well-defined problem statement and explain it to the development team.',\n",
       " 'mailto:SRZarin666@gmail.com https://www.linkedin.com/in/syeda-zarin-8b307442/ https://github.com/srzarin • To work with Algorithms and Predictive Models to Drive Insights and Business Values from Data.',\n",
       " '• To identify data sets required to develop predictive models for solving internal and external business problems.',\n",
       " \"• Identify and implement use cases which might help the organization's business development.\",\n",
       " '• To interpret results and produce actionable business insights that lead to measurable business and consumer experience performance improvements.',\n",
       " '• Experience in building applications with Artificial Intelligence, Machine Learning, Deep Learning, Recurrent Neural Network, Computer vision, NLP and Python.',\n",
       " '• Worked on Deployment and optimization of various computer vision, Machine learning and NLP solution on web based application, Azure platform using kubernetes services and Raspberry pi.',\n",
       " '• Designing the neural networks using Tensor flow for various internal projects within the company and working on Chatbots using NLP.',\n",
       " '• To operationalize,publish, and monitor successful models to shape busines and data science strategy.',\n",
       " '• To work cross-functionally to define problem statements,collect data,build analytical models and make recommendations.',\n",
       " 'PROJECTS SUMMARY: Project Title Technology Roles Responsibilities ANPR ( Automatic Number Plate Detection ) Python Deep Learning Object Detection Object Tracking OCR Deep Sort Data Scientist Data Analysis & Preprocessing, Selection of Algorithms , Model Building ,Accuracy check and fine tuning, deployment in cloud.',\n",
       " 'Default Wafer Detection Python Machine Learning Data Visualization Matplotlib Data Scientist Data Preprocessing ,Selection of Algorithms ,Model Building ,Accuracy check and fine tuning Flash API creation for deployment.',\n",
       " 'Warehouse Dress Code Analysis Python Deep Leaning Compuer Vision Object Detection Data Scientist Data Analysis & Preprocessing ,Selection of Algorithms , Model Building ,Accuracy check and fine tuning ,Stream lit Framework creation for deployment of the model, Deployment of the model in live server .',\n",
       " 'Brand Measures Python Deep Learning Data Visualization NLP Text Summerization Predictive Modelling Data Scientist ASR,Speech Seperation( Audio Segmenting), Spelling Corrector(Symspell), Keyword Spotting.',\n",
       " \"PROFESSIONAL EXPERIENCE : • Catla IT & Engineering Co Private Limited , Data Scientist (OCT'19-PRESENT) • Franchise India ,Data Scientist (AUG’18 – SEP’19) • KTC India Private Limited ,Business Analyst (JUL'17-DEC'18) • BCPL(Elmatics Engineers Pvt Ltd),Instrumentation Engineer (JAN'13-MAR'15) ACADEMIC DETAILS Class/ course Year School/college Marks/ Grades PGPM/MBA (Marketing & International Business) 2015-17 FOSTIIMA Business School, New Delhi 7.42 (CGPA) B.Tech in Applied Electronics & instrumentation 2008-2012 Gandhi Institute of Engineering and Technology, Orissa 75.3 % Class XII 2008 Guwahati Public School, Assam 63%\"]"
      ]
     },
     "execution_count": 6,
     "metadata": {},
     "output_type": "execute_result"
    }
   ],
   "source": [
    "sentence.replace("
   ]
  },
  {
   "cell_type": "code",
   "execution_count": 16,
   "id": "947025e2-3cbc-4e03-b187-345451be0510",
   "metadata": {},
   "outputs": [],
   "source": [
    "word=nltk.word_tokenize(s)"
   ]
  },
  {
   "cell_type": "code",
   "execution_count": null,
   "id": "7d17e88d-e630-4851-bccc-c902567a7f02",
   "metadata": {},
   "outputs": [],
   "source": []
  },
  {
   "cell_type": "code",
   "execution_count": null,
   "id": "59d8bbea-5972-45da-aa69-6f4dfc00659c",
   "metadata": {},
   "outputs": [],
   "source": [
    "\n"
   ]
  },
  {
   "cell_type": "code",
   "execution_count": 55,
   "id": "863db35d-1518-4339-9509-7738579d2456",
   "metadata": {},
   "outputs": [
    {
     "name": "stdout",
     "output_type": "stream",
     "text": [
      "\n",
      " [('SYEDA', 'NNP'), ('RUBAINA', 'NNP'), ('ZARIN', 'NNP'), ('Guwahati', 'NNP'), (',', ','), ('Assam', 'NNP'), ('9654226228', 'CD'), ('Email', 'NNP'), (':', ':'), ('SRZarin666', 'NNP'), ('@', 'NNP'), ('gmail.com', 'NN'), ('Linkedin', 'NNP'), (':', ':'), ('https', 'NN'), (':', ':'), ('//www.linkedin.com/in/syeda-zarin-8b307442/', 'JJ'), ('Github', 'NNP'), ('Profile', 'NNP'), (':', ':'), ('https', 'NN'), (':', ':'), ('//github.com/srzarin', 'NN'), ('PROFILE', 'NNP'), ('SUMMARY', 'NNP'), ('•', 'VBD'), ('Achievement-driven', 'NNP'), ('professional', 'JJ'), ('experience', 'NN'), ('nearly', 'RB'), ('5', 'CD'), ('years', 'NNS'), ('•', 'RB'), ('Data', 'NNP'), ('scientist', 'NN'), ('2.5', 'CD'), ('year', 'NN'), ('experience', 'NN'), ('leveraging', 'VBG'), ('statistical', 'JJ'), ('modelling', 'NN'), (',', ','), ('data', 'NNS'), ('visualization', 'NN'), (',', ','), ('data', 'NNS'), ('preprocesing', 'NN'), (',', ','), ('data', 'NNS'), ('mining', 'NN'), ('using', 'VBG'), ('machine', 'NN'), ('learning', 'VBG'), ('deep', 'JJ'), ('learning', 'NN'), ('algorithms', 'JJ'), ('solve', 'NN'), ('challenging', 'VBG'), ('business', 'NN'), ('problems', 'NNS'), ('natural', 'JJ'), ('language', 'NN'), ('processing', 'NN'), ('•', 'NN'), ('Have', 'VBP'), ('worked', 'VBN'), ('extensively', 'RB'), ('Data', 'NNP'), ('Science', 'NNP'), ('Technologies', 'NNP'), ('proven', 'RB'), ('expertise', 'RB'), ('Python', 'NNP'), (',', ','), ('Machine', 'NNP'), ('Learning', 'NNP'), (',', ','), ('Deep', 'NNP'), ('Learning', 'NNP'), (',', ','), ('Computer', 'NNP'), ('Vision/Image', 'NNP'), ('Processing', 'NNP'), ('NLP', 'NNP'), ('.', '.')]\n",
      "\n",
      " [('SKILL', 'NNP'), ('SET', 'NNP'), ('Programming', 'NNP'), ('Languages', 'NNP'), (',', ','), ('Libraries', 'NNP'), ('Framework', 'NNP'), ('Python', 'NNP'), (',', ','), ('Machine', 'NNP'), ('Learning', 'NNP'), ('(', '('), ('NumPy', 'NNP'), (',', ','), ('Pandas', 'NNP'), (',', ','), ('SciPy', 'NNP'), (',', ','), ('Matplotlib', 'NNP'), (',', ','), ('SKlearn', 'NNP'), (')', ')'), (',', ','), ('Deep', 'NNP'), ('Neural', 'NNP'), ('Networks', 'NNP'), ('(', '('), ('Keras', 'NNP'), (',', ','), ('TensorFlow', 'NNP'), (',', ','), ('Pytorch', 'NNP'), (')', ')'), (',', ','), ('Convolutional', 'NNP'), ('Neural', 'NNP'), ('Networks', 'NNP'), (',', ','), ('Beautiful', 'NNP'), ('Soup', 'NNP'), (',', ','), ('Computer', 'NNP'), ('Vision', 'NNP'), ('(', '('), ('Open', 'NNP'), ('CV', 'NNP'), (')', ')'), (',', ','), ('NLP', 'NNP'), ('(', '('), ('NLTK', 'NNP'), (',', ','), ('Gensium', 'NNP'), (',', ','), ('TextBlob', 'NNP'), (',', ','), ('Standard', 'NNP'), ('NLP', 'NNP'), (',', ','), ('Spacy', 'NNP'), (')', ')'), (',', ','), ('LSTM', 'NNP'), (',', ','), ('Transformers', 'NNP'), (',', ','), ('BERT', 'NNP'), (',', ','), ('GPT', 'NNP'), (',', ','), ('Flask', 'NNP'), ('Framework', 'NNP'), (',', ','), ('Attention', 'NNP'), ('Based', 'VBD'), ('Models', 'NNP'), (',', ','), ('Spark', 'NNP'), (',', ','), ('Encoders', 'NNP'), (',', ','), ('Decoders', 'NNP'), ('Visualization', 'NNP'), ('Tool', 'NNP'), ('Libraries', 'NNP'), ('Power', 'NNP'), ('BI', 'NNP'), (',', ','), ('Tableau', 'NNP'), (',', ','), ('Matplotlib', 'NNP'), (',', ','), ('Seaborn', 'NNP'), (',', ','), ('Plotly', 'NNP'), ('Tools', 'NNP'), ('PyCharm', 'NNP'), (',', ','), ('Anaconda', 'NNP'), (',', ','), ('Jupiter', 'NNP'), ('Notebook', 'NNP'), (',', ','), ('GitHub', 'NNP'), (',', ','), ('MongoDB/', 'NNP'), ('MySQL', 'NNP'), ('Domain', 'NNP'), ('Retail', 'NNP'), (',', ','), ('Ecommerce', 'NNP'), (',', ','), ('Travel', 'NNP'), ('&', 'CC'), ('Hospitality', 'NNP'), (',', ','), ('FMCG', 'NNP'), (',', ','), ('Supply', 'NNP'), ('Chain', 'NNP'), ('&', 'CC'), ('Logistic', 'NNP'), ('IT', 'NNP'), ('.', '.')]\n",
      "\n",
      " [('Cloud', 'NNP'), ('Platform', 'NNP'), ('Deployment', 'NNP'), ('AWS', 'NNP'), (',', ','), ('Heroku', 'NNP'), (',', ','), ('Azure', 'NNP'), (',', ','), ('GCP', 'NNP'), (',', ','), ('Pivotal', 'NNP'), (',', ','), ('Azure', 'NNP'), ('Machine', 'NNP'), ('Learning', 'NNP'), ('Others', 'NNP'), ('MS', 'NNP'), ('Excel', 'NNP'), (',', ','), ('MS', 'NNP'), ('Power', 'NNP'), ('Point', 'NNP'), ('Presentation', 'NNP'), (',', ','), ('MS', 'NNP'), ('Word', 'NNP'), ('RESPONSIBILITIES', 'NNP'), (':', ':'), ('DATA', 'NNP'), ('SCIENTIST', 'NNP'), (',', ','), ('CATLA', 'NNP'), ('IT', 'NNP'), ('&', 'CC'), ('ENGINEERING', 'NNP'), ('CO', 'NNP'), ('PRIVATE', 'NNP'), ('LIMITED', 'NNP'), ('(', '('), ('OCT', 'NNP'), ('’', 'VBZ'), ('19', 'CD'), ('–', 'NNP'), ('PRESENT', 'NNP'), (')', ')'), ('•', 'VBP'), ('To', 'TO'), ('understand', 'VB'), ('business', 'NN'), ('use', 'NN'), ('cases', 'NNS'), ('clients', 'NNS'), ('convert', 'VBP'), ('well-defined', 'JJ'), ('problem', 'NN'), ('statement', 'NN'), ('explain', 'NN'), ('development', 'NN'), ('team', 'NN'), ('.', '.')]\n",
      "\n",
      " [('mailto', 'NN'), (':', ':'), ('SRZarin666', 'NNP'), ('@', 'NNP'), ('gmail.com', 'NN'), ('https', 'NN'), (':', ':'), ('//www.linkedin.com/in/syeda-zarin-8b307442/', 'JJ'), ('https', 'NN'), (':', ':'), ('//github.com/srzarin', 'JJ'), ('•', 'NN'), ('To', 'TO'), ('work', 'VB'), ('Algorithms', 'NNP'), ('Predictive', 'NNP'), ('Models', 'NNP'), ('Drive', 'NNP'), ('Insights', 'NNP'), ('Business', 'NNP'), ('Values', 'NNP'), ('Data', 'NNP'), ('.', '.')]\n",
      "\n",
      " [('•', 'NN'), ('To', 'TO'), ('identify', 'VB'), ('data', 'NNS'), ('sets', 'NNS'), ('required', 'VBD'), ('develop', 'RB'), ('predictive', 'JJ'), ('models', 'NNS'), ('solving', 'VBG'), ('internal', 'JJ'), ('external', 'JJ'), ('business', 'NN'), ('problems', 'NNS'), ('.', '.')]\n",
      "\n",
      " [('•', 'JJ'), ('Identify', 'NNP'), ('implement', 'NN'), ('use', 'NN'), ('cases', 'NNS'), ('might', 'MD'), ('help', 'VB'), ('organization', 'NN'), (\"'s\", 'POS'), ('business', 'NN'), ('development', 'NN'), ('.', '.')]\n",
      "\n",
      " [('•', 'NN'), ('To', 'TO'), ('interpret', 'VB'), ('results', 'NNS'), ('produce', 'VBP'), ('actionable', 'JJ'), ('business', 'NN'), ('insights', 'NNS'), ('lead', 'VBP'), ('measurable', 'JJ'), ('business', 'NN'), ('consumer', 'NN'), ('experience', 'NN'), ('performance', 'NN'), ('improvements', 'NNS'), ('.', '.')]\n",
      "\n",
      " [('•', 'JJ'), ('Experience', 'NNP'), ('building', 'NN'), ('applications', 'NNS'), ('Artificial', 'NNP'), ('Intelligence', 'NNP'), (',', ','), ('Machine', 'NNP'), ('Learning', 'NNP'), (',', ','), ('Deep', 'NNP'), ('Learning', 'NNP'), (',', ','), ('Recurrent', 'NNP'), ('Neural', 'NNP'), ('Network', 'NNP'), (',', ','), ('Computer', 'NNP'), ('vision', 'NN'), (',', ','), ('NLP', 'NNP'), ('Python', 'NNP'), ('.', '.')]\n",
      "\n",
      " [('•', 'NN'), ('Worked', 'VBD'), ('Deployment', 'NNP'), ('optimization', 'NN'), ('various', 'JJ'), ('computer', 'NN'), ('vision', 'NN'), (',', ','), ('Machine', 'NNP'), ('learning', 'VBG'), ('NLP', 'NNP'), ('solution', 'NN'), ('web', 'NN'), ('based', 'VBN'), ('application', 'NN'), (',', ','), ('Azure', 'NNP'), ('platform', 'NN'), ('using', 'VBG'), ('kubernetes', 'NNS'), ('services', 'NNS'), ('Raspberry', 'NNP'), ('pi', 'NN'), ('.', '.')]\n",
      "\n",
      " [('•', 'NN'), ('Designing', 'NNP'), ('neural', 'JJ'), ('networks', 'NNS'), ('using', 'VBG'), ('Tensor', 'NNP'), ('flow', 'VBP'), ('various', 'JJ'), ('internal', 'JJ'), ('projects', 'NNS'), ('within', 'IN'), ('company', 'NN'), ('working', 'VBG'), ('Chatbots', 'NNP'), ('using', 'VBG'), ('NLP', 'NNP'), ('.', '.')]\n",
      "\n",
      " [('•', 'NN'), ('To', 'TO'), ('operationalize', 'VB'), (',', ','), ('publish', 'VB'), (',', ','), ('monitor', 'VB'), ('successful', 'JJ'), ('models', 'NNS'), ('shape', 'VBP'), ('busines', 'NNS'), ('data', 'NNS'), ('science', 'NN'), ('strategy', 'NN'), ('.', '.')]\n",
      "\n",
      " [('•', 'NN'), ('To', 'TO'), ('work', 'VB'), ('cross-functionally', 'RB'), ('define', 'JJ'), ('problem', 'NN'), ('statements', 'NNS'), (',', ','), ('collect', 'NN'), ('data', 'NNS'), (',', ','), ('build', 'VB'), ('analytical', 'JJ'), ('models', 'NNS'), ('make', 'VBP'), ('recommendations', 'NNS'), ('.', '.')]\n",
      "\n",
      " [('PROJECTS', 'NNP'), ('SUMMARY', 'NNP'), (':', ':'), ('Project', 'NN'), ('Title', 'NNP'), ('Technology', 'NNP'), ('Roles', 'NNP'), ('Responsibilities', 'NNP'), ('ANPR', 'NNP'), ('(', '('), ('Automatic', 'NNP'), ('Number', 'NNP'), ('Plate', 'NNP'), ('Detection', 'NNP'), (')', ')'), ('Python', 'NNP'), ('Deep', 'NNP'), ('Learning', 'NNP'), ('Object', 'NNP'), ('Detection', 'NNP'), ('Object', 'NNP'), ('Tracking', 'NNP'), ('OCR', 'NNP'), ('Deep', 'NNP'), ('Sort', 'NNP'), ('Data', 'NNP'), ('Scientist', 'NNP'), ('Data', 'NNP'), ('Analysis', 'NNP'), ('&', 'CC'), ('Preprocessing', 'NNP'), (',', ','), ('Selection', 'NNP'), ('Algorithms', 'NNP'), (',', ','), ('Model', 'NNP'), ('Building', 'NNP'), (',', ','), ('Accuracy', 'NNP'), ('check', 'VBP'), ('fine', 'JJ'), ('tuning', 'NN'), (',', ','), ('deployment', 'JJ'), ('cloud', 'NN'), ('.', '.')]\n",
      "\n",
      " [('Default', 'NNP'), ('Wafer', 'NNP'), ('Detection', 'NNP'), ('Python', 'NNP'), ('Machine', 'NNP'), ('Learning', 'NNP'), ('Data', 'NNP'), ('Visualization', 'NNP'), ('Matplotlib', 'NNP'), ('Data', 'NNP'), ('Scientist', 'NNP'), ('Data', 'NNP'), ('Preprocessing', 'NNP'), (',', ','), ('Selection', 'NNP'), ('Algorithms', 'NNP'), (',', ','), ('Model', 'NNP'), ('Building', 'NNP'), (',', ','), ('Accuracy', 'NNP'), ('check', 'VBP'), ('fine', 'JJ'), ('tuning', 'VBG'), ('Flash', 'NNP'), ('API', 'NNP'), ('creation', 'NN'), ('deployment', 'NN'), ('.', '.')]\n",
      "\n",
      " [('Warehouse', 'NNP'), ('Dress', 'NNP'), ('Code', 'NNP'), ('Analysis', 'NNP'), ('Python', 'NNP'), ('Deep', 'NNP'), ('Leaning', 'NNP'), ('Compuer', 'NNP'), ('Vision', 'NNP'), ('Object', 'NNP'), ('Detection', 'NNP'), ('Data', 'NNP'), ('Scientist', 'NNP'), ('Data', 'NNP'), ('Analysis', 'NNP'), ('&', 'CC'), ('Preprocessing', 'NNP'), (',', ','), ('Selection', 'NNP'), ('Algorithms', 'NNP'), (',', ','), ('Model', 'NNP'), ('Building', 'NNP'), (',', ','), ('Accuracy', 'NNP'), ('check', 'VBP'), ('fine', 'JJ'), ('tuning', 'NN'), (',', ','), ('Stream', 'NNP'), ('lit', 'VBD'), ('Framework', 'NNP'), ('creation', 'NN'), ('deployment', 'NN'), ('model', 'NN'), (',', ','), ('Deployment', 'NNP'), ('model', 'NN'), ('live', 'JJ'), ('server', 'NN'), ('.', '.')]\n",
      "\n",
      " [('Brand', 'NNP'), ('Measures', 'NNP'), ('Python', 'NNP'), ('Deep', 'NNP'), ('Learning', 'NNP'), ('Data', 'NNP'), ('Visualization', 'NNP'), ('NLP', 'NNP'), ('Text', 'NNP'), ('Summerization', 'NNP'), ('Predictive', 'NNP'), ('Modelling', 'NNP'), ('Data', 'NNP'), ('Scientist', 'NNP'), ('ASR', 'NNP'), (',', ','), ('Speech', 'NNP'), ('Seperation', 'NNP'), ('(', '('), ('Audio', 'NNP'), ('Segmenting', 'NNP'), (')', ')'), (',', ','), ('Spelling', 'VBG'), ('Corrector', 'NNP'), ('(', '('), ('Symspell', 'NNP'), (')', ')'), (',', ','), ('Keyword', 'NNP'), ('Spotting', 'NNP'), ('.', '.')]\n",
      "\n",
      " [('PROFESSIONAL', 'JJ'), ('EXPERIENCE', 'NN'), (':', ':'), ('•', 'NN'), ('Catla', 'NNP'), ('IT', 'NNP'), ('&', 'CC'), ('Engineering', 'NNP'), ('Co', 'NNP'), ('Private', 'NNP'), ('Limited', 'NNP'), (',', ','), ('Data', 'NNP'), ('Scientist', 'NNP'), ('(', '('), (\"OCT'19-PRESENT\", 'NNP'), (')', ')'), ('•', 'VBP'), ('Franchise', 'NNP'), ('India', 'NNP'), (',', ','), ('Data', 'NNP'), ('Scientist', 'NNP'), ('(', '('), ('AUG', 'NNP'), ('’', 'VBZ'), ('18', 'CD'), ('–', 'NN'), ('SEP', 'NNP'), ('’', 'NNP'), ('19', 'CD'), (')', ')'), ('•', 'NN'), ('KTC', 'NNP'), ('India', 'NNP'), ('Private', 'NNP'), ('Limited', 'NNP'), (',', ','), ('Business', 'NNP'), ('Analyst', 'NNP'), ('(', '('), (\"JUL'17-DEC'18\", 'NNP'), (')', ')'), ('•', 'FW'), ('BCPL', 'NNP'), ('(', '('), ('Elmatics', 'NNP'), ('Engineers', 'NNPS'), ('Pvt', 'NNP'), ('Ltd', 'NNP'), (')', ')'), (',', ','), ('Instrumentation', 'NNP'), ('Engineer', 'NNP'), ('(', '('), (\"JAN'13-MAR'15\", 'NNP'), (')', ')'), ('ACADEMIC', 'NNP'), ('DETAILS', 'NNP'), ('Class/', 'NNP'), ('course', 'NN'), ('Year', 'NNP'), ('School/college', 'NNP'), ('Marks/', 'NNP'), ('Grades', 'NNP'), ('PGPM/MBA', 'NNP'), ('(', '('), ('Marketing', 'NNP'), ('&', 'CC'), ('International', 'NNP'), ('Business', 'NNP'), (')', ')'), ('2015-17', 'JJ'), ('FOSTIIMA', 'NNP'), ('Business', 'NNP'), ('School', 'NNP'), (',', ','), ('New', 'NNP'), ('Delhi', 'NNP'), ('7.42', 'CD'), ('(', '('), ('CGPA', 'NNP'), (')', ')'), ('B.Tech', 'NNP'), ('Applied', 'NNP'), ('Electronics', 'NNP'), ('&', 'CC'), ('instrumentation', 'NN'), ('2008-2012', 'JJ'), ('Gandhi', 'NNP'), ('Institute', 'NNP'), ('Engineering', 'NNP'), ('Technology', 'NNP'), (',', ','), ('Orissa', 'NNP'), ('75.3', 'CD'), ('%', 'NN'), ('Class', 'NNP'), ('XII', 'NNP'), ('2008', 'CD'), ('Guwahati', 'NNP'), ('Public', 'NNP'), ('School', 'NNP'), (',', ','), ('Assam', 'NNP'), ('63', 'CD'), ('%', 'NN')]\n"
     ]
    }
   ],
   "source": [
    "import nltk\n",
    "from nltk.corpus import stopwords\n",
    "from nltk.tokenize import word_tokenize, sent_tokenize\n",
    "stop_words = set(stopwords.words('english'))\n",
    " \n",
    "# Dummy text\n",
    "txt = \"Sukanya, Rajib and Naba are my good friends. \" \\\n",
    "    \"Sukanya is getting married next year. \" \\\n",
    "    \"Marriage is a big step in one’s life.\" \\\n",
    "    \"It is both exciting and frightening. \" \\\n",
    "    \"But friendship is a sacred bond between people.\" \\\n",
    "    \"It is a special kind of love between us. \" \\\n",
    "    \"Many of you must have tried searching for a friend \"\\\n",
    "    \"but never found the right one.\"\n",
    " \n",
    "# sent_tokenize is one of instances of\n",
    "# PunktSentenceTokenizer from the nltk.tokenize.punkt module\n",
    "arr=[]\n",
    "i=0\n",
    "tokenized = sent_tokenize(s)\n",
    "for i in tokenized:\n",
    "     \n",
    "    # Word tokenizers is used to find the words\n",
    "    # and punctuation in a string\n",
    "    wordsList = nltk.word_tokenize(i)\n",
    " \n",
    "    # removing stop words from wordList\n",
    "    wordsList = [w for w in wordsList if not w in stop_words]\n",
    "\n",
    "            \n",
    " \n",
    "    #  Using a Tagger. Which is part-of-speech\n",
    "    # tagger or POS-tagger.\n",
    "    tagged = nltk.pos_tag(wordsList)\n",
    " \n",
    "    print('\\n',tagged)"
   ]
  },
  {
   "cell_type": "code",
   "execution_count": 59,
   "id": "3e85f310-ff75-4c1f-9df2-b231790bc756",
   "metadata": {},
   "outputs": [],
   "source": [
    "s=\"\"\"'SYEDA', 'NNP'\\n 'RUBAINA', 'NNP'\\n 'ZARIN', 'NNP'\\n 'Guwahati', 'NNP'\\n ',', ','\\n 'Assam', 'NNP'\\n '9654226228', 'CD'\\n 'Email', 'NNP'\\n ':', ':'\\n 'SRZarin666', 'NNP'\\n '@', 'NNP'\\n 'gmail.com', 'NN'\\n 'Linkedin', 'NNP'\\n ':', ':'\\n 'https', 'NN'\\n ':', ':'\\n '//www.linkedin.com/in/syeda-zarin-8b307442/', 'JJ'\\n 'Github', 'NNP'\\n 'Profile', 'NNP'\\n ':', ':'\\n 'https', 'NN'\\n ':', ':'\\n '//github.com/srzarin', 'NN'\\n 'PROFILE', 'NNP'\\n 'SUMMARY', 'NNP'\\n '•', 'VBD'\\n 'Achievement-driven', 'NNP'\\n 'professional', 'JJ'\\n 'experience', 'NN'\\n 'nearly', 'RB'\\n '5', 'CD'\\n 'years', 'NNS'\\n '•', 'RB'\\n 'Data', 'NNP'\\n 'scientist', 'NN'\\n '2.5', 'CD'\\n 'year', 'NN'\\n 'experience', 'NN'\\n 'leveraging', 'VBG'\\n 'statistical', 'JJ'\\n 'modelling', 'NN'\\n ',', ','\\n 'data', 'NNS'\\n 'visualization', 'NN'\\n ',', ','\\n 'data', 'NNS'\\n 'preprocesing', 'NN'\\n ',', ','\\n 'data', 'NNS'\\n 'mining', 'NN'\\n 'using', 'VBG'\\n 'machine', 'NN'\\n 'learning', 'VBG'\\n 'deep', 'JJ'\\n 'learning', 'NN'\\n 'algorithms', 'JJ'\\n 'solve', 'NN'\\n 'challenging', 'VBG'\\n 'business', 'NN'\\n 'problems', 'NNS'\\n 'natural', 'JJ'\\n 'language', 'NN'\\n 'processing', 'NN'\\n '•', 'NN'\\n 'Have', 'VBP'\\n 'worked', 'VBN'\\n 'extensively', 'RB'\\n 'Data', 'NNP'\\n 'Science', 'NNP'\\n 'Technologies', 'NNP'\\n 'proven', 'RB'\\n 'expertise', 'RB'\\n 'Python', 'NNP'\\n ',', ','\\n 'Machine', 'NNP'\\n 'Learning', 'NNP'\\n ',', ','\\n 'Deep', 'NNP'\\n 'Learning', 'NNP'\\n ',', ','\\n 'Computer', 'NNP'\\n 'Vision/Image', 'NNP'\\n 'Processing', 'NNP'\\n 'NLP', 'NNP'\\n '.', \"\"\""
   ]
  },
  {
   "cell_type": "code",
   "execution_count": 60,
   "id": "f25d1e43-4780-4dac-b6fe-60b550f90c39",
   "metadata": {},
   "outputs": [],
   "source": [
    "import csv\n",
    "\n",
    "with open('countries.csv', 'w', encoding='UTF8') as f:\n",
    "    writer = csv.writer(f)\n",
    "\n",
    "    # write the data\n",
    "    writer.writerow(s)"
   ]
  },
  {
   "cell_type": "code",
   "execution_count": 61,
   "id": "30c40264-3a95-4ada-9292-a618c17ef014",
   "metadata": {},
   "outputs": [],
   "source": [
    "with open('cccc.csv', 'w', newline='', encoding='utf-8') as f:\n",
    "    writer = csv.writer(f)"
   ]
  },
  {
   "cell_type": "code",
   "execution_count": null,
   "id": "fe89262e-b552-4f82-9b10-8e57a873b859",
   "metadata": {},
   "outputs": [],
   "source": [
    "import csv\n",
    "import sys\n",
    "\n",
    "doc = csv.writer(sys.stdout, lineterminator='\\n')\n",
    "doc.writerow('abc')\n",
    "doc.writerow(range(3))"
   ]
  }
 ],
 "metadata": {
  "kernelspec": {
   "display_name": "Python 3",
   "language": "python",
   "name": "python3"
  },
  "language_info": {
   "codemirror_mode": {
    "name": "ipython",
    "version": 3
   },
   "file_extension": ".py",
   "mimetype": "text/x-python",
   "name": "python",
   "nbconvert_exporter": "python",
   "pygments_lexer": "ipython3",
   "version": "3.6.8"
  }
 },
 "nbformat": 4,
 "nbformat_minor": 5
}
